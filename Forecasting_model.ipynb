{
 "cells": [
  {
   "cell_type": "markdown",
   "id": "52dc6b2e",
   "metadata": {},
   "source": [
    "# <center><i><code style=\"background:lightblue;color:black\">Forecasting on Avalability of Hospital Beds </code> </i></center>"
   ]
  },
  {
   "cell_type": "markdown",
   "id": "a568dad5",
   "metadata": {},
   "source": [
    "##### Importing necessary Libraries"
   ]
  },
  {
   "cell_type": "code",
   "execution_count": 1,
   "id": "af1438d9",
   "metadata": {},
   "outputs": [],
   "source": [
    "import pandas as pd\n",
    "import numpy as np\n",
    "\n",
    "import matplotlib.pyplot as plt\n",
    "plt.style.use('fivethirtyeight')\n",
    "import seaborn as sns\n",
    "from pandas.plotting import lag_plot\n",
    "\n",
    "from statsmodels.tsa.stattools import adfuller\n",
    "from statsmodels.tsa.seasonal import seasonal_decompose\n",
    "from pandas.plotting import autocorrelation_plot\n",
    "\n",
    "\n",
    "import statsmodels.graphics.tsaplots as tsa_plot\n",
    "\n",
    "from ml_metrics import rmse\n",
    "from sklearn.metrics import mean_squared_error\n",
    "from math import sqrt\n",
    "\n",
    "from statsmodels.tsa.ar_model import AutoReg\n",
    "from statsmodels.tsa.arima.model import ARIMA\n",
    "from statsmodels.tsa.statespace.sarimax import SARIMAX\n",
    "from statsmodels.tsa.holtwinters import SimpleExpSmoothing\n",
    "from statsmodels.tsa.holtwinters import Holt\n",
    "from statsmodels.tsa.holtwinters import ExponentialSmoothing\n",
    "from pmdarima import auto_arima\n",
    "import fbprophet \n",
    "import pickle\n",
    "\n",
    "\n",
    "import warnings\n",
    "warnings.filterwarnings('ignore')"
   ]
  },
  {
   "cell_type": "markdown",
   "id": "701f04f9",
   "metadata": {},
   "source": [
    "##### Importing the data and having a glance at it\n"
   ]
  },
  {
   "cell_type": "code",
   "execution_count": null,
   "id": "e3363439",
   "metadata": {},
   "outputs": [],
   "source": [
    "data=pd.read_csv('Beds_Occupied.csv')\n",
    "data.head()"
   ]
  },
  {
   "cell_type": "markdown",
   "id": "47a8ce0e",
   "metadata": {},
   "source": [
    "### <center><code style=\"background:lightblue;color:black\">Exploratory Data Analysis(EDA)</code>"
   ]
  },
  {
   "cell_type": "markdown",
   "id": "e827ca21",
   "metadata": {},
   "source": [
    "##### Looking over the datatype and null values if present any in our dataset"
   ]
  },
  {
   "cell_type": "code",
   "execution_count": null,
   "id": "320269df",
   "metadata": {},
   "outputs": [],
   "source": [
    "data.info()"
   ]
  },
  {
   "cell_type": "markdown",
   "id": "9fa5cdc4",
   "metadata": {},
   "source": [
    "##### Renaming the column names in order to avoid spacing"
   ]
  },
  {
   "cell_type": "code",
   "execution_count": null,
   "id": "be5ddbdc",
   "metadata": {},
   "outputs": [],
   "source": [
    "data.columns=['CD','TIB']"
   ]
  },
  {
   "cell_type": "markdown",
   "id": "e44632a9",
   "metadata": {},
   "source": [
    "##### Changing the collection date column into datetime format"
   ]
  },
  {
   "cell_type": "code",
   "execution_count": null,
   "id": "217615e6",
   "metadata": {},
   "outputs": [],
   "source": [
    "data['CD']=pd.to_datetime(data['CD'],format='%d-%m-%Y')"
   ]
  },
  {
   "cell_type": "markdown",
   "id": "c6249203",
   "metadata": {},
   "source": [
    "##### Looking over the datatype and null values if present any in our dataset"
   ]
  },
  {
   "cell_type": "code",
   "execution_count": null,
   "id": "4ceda278",
   "metadata": {},
   "outputs": [],
   "source": [
    "data.info()"
   ]
  },
  {
   "cell_type": "markdown",
   "id": "37229763",
   "metadata": {},
   "source": [
    "##### Identifying the Missing values in a year from our data"
   ]
  },
  {
   "cell_type": "code",
   "execution_count": null,
   "id": "01c9c145",
   "metadata": {
    "scrolled": true
   },
   "outputs": [],
   "source": [
    "range_dates = pd.date_range(start=data.CD.min(), end=data.CD.max())\n",
    "range_dates"
   ]
  },
  {
   "cell_type": "markdown",
   "id": "12891709",
   "metadata": {},
   "source": [
    "##### setting our index column to CD column(datetime)"
   ]
  },
  {
   "cell_type": "code",
   "execution_count": null,
   "id": "e2657d81",
   "metadata": {},
   "outputs": [],
   "source": [
    "data=data.set_index('CD').reindex(range_dates).rename_axis('CD').reset_index()"
   ]
  },
  {
   "cell_type": "markdown",
   "id": "96c0ca3f",
   "metadata": {},
   "source": [
    "##### Checking the rows and columns"
   ]
  },
  {
   "cell_type": "code",
   "execution_count": null,
   "id": "9c363587",
   "metadata": {},
   "outputs": [],
   "source": [
    "data.shape"
   ]
  },
  {
   "cell_type": "markdown",
   "id": "2f4de500",
   "metadata": {},
   "source": [
    "##### Listing the missing values from our data"
   ]
  },
  {
   "cell_type": "code",
   "execution_count": null,
   "id": "af50077a",
   "metadata": {},
   "outputs": [],
   "source": [
    "data.isna().sum()"
   ]
  },
  {
   "cell_type": "markdown",
   "id": "ec61d4b8",
   "metadata": {},
   "source": [
    "##### Filling the missing TIB dates with the median value "
   ]
  },
  {
   "cell_type": "code",
   "execution_count": null,
   "id": "3ba69959",
   "metadata": {},
   "outputs": [],
   "source": [
    "data=data.fillna(data.TIB.mean())"
   ]
  },
  {
   "cell_type": "markdown",
   "id": "7202a097",
   "metadata": {},
   "source": [
    "##### looking for missing values "
   ]
  },
  {
   "cell_type": "code",
   "execution_count": null,
   "id": "081ff744",
   "metadata": {},
   "outputs": [],
   "source": [
    "data.isna().sum()"
   ]
  },
  {
   "cell_type": "markdown",
   "id": "72590f1d",
   "metadata": {},
   "source": [
    "##### Creating the target variable for further evaluation"
   ]
  },
  {
   "cell_type": "code",
   "execution_count": null,
   "id": "40cabf1c",
   "metadata": {},
   "outputs": [],
   "source": [
    "data['AIB']=900-data['TIB']\n",
    "data.head()"
   ]
  },
  {
   "cell_type": "markdown",
   "id": "aab4b477",
   "metadata": {},
   "source": [
    "##### Looking into the statistical detail of the data"
   ]
  },
  {
   "cell_type": "code",
   "execution_count": null,
   "id": "18e7968c",
   "metadata": {},
   "outputs": [],
   "source": [
    "data.describe()"
   ]
  },
  {
   "cell_type": "code",
   "execution_count": null,
   "id": "37af8eef",
   "metadata": {},
   "outputs": [],
   "source": [
    "data=data.set_index('CD')\n",
    "data"
   ]
  },
  {
   "cell_type": "markdown",
   "id": "d048d3ef",
   "metadata": {},
   "source": [
    "##### Dropping the TIB column and considering only the target variable (Avail_beds)"
   ]
  },
  {
   "cell_type": "code",
   "execution_count": null,
   "id": "025723ec",
   "metadata": {},
   "outputs": [],
   "source": [
    "data=data.drop('TIB',axis=1)"
   ]
  },
  {
   "cell_type": "markdown",
   "id": "526bfcd6",
   "metadata": {},
   "source": [
    "### <center><code style=\"background:lightblue;color:black\">Visualizing the data with different plots</code>"
   ]
  },
  {
   "cell_type": "markdown",
   "id": "5a51d90b",
   "metadata": {},
   "source": [
    "##### Plotting the line plot to check the trend in data"
   ]
  },
  {
   "cell_type": "code",
   "execution_count": null,
   "id": "d47dcb35",
   "metadata": {},
   "outputs": [],
   "source": [
    "plt.figure(figsize=(10,5))\n",
    "data.AIB.plot(linewidth=2)\n",
    "plt.title('Line Plot')\n",
    "plt.xlabel('Months')\n",
    "plt.ylabel('Available Beds')"
   ]
  },
  {
   "cell_type": "markdown",
   "id": "2d059b22",
   "metadata": {},
   "source": [
    ">From the line plot above it is evident that our data has no upward or downward trend"
   ]
  },
  {
   "cell_type": "markdown",
   "id": "ea17a5c4",
   "metadata": {},
   "source": [
    "#####  Plotting the KDE plot to check the data is  distributed normally or not"
   ]
  },
  {
   "cell_type": "code",
   "execution_count": null,
   "id": "42c1bd6f",
   "metadata": {},
   "outputs": [],
   "source": [
    "plt.figure(figsize=(10,5))\n",
    "data.AIB.plot(kind='kde')\n",
    "plt.title('KDE Plot')\n",
    "plt.xlabel('Availabile Beds')\n"
   ]
  },
  {
   "cell_type": "markdown",
   "id": "a6e60682",
   "metadata": {},
   "source": [
    ">From the above plot it depicts that the data follows almost normal distribution"
   ]
  },
  {
   "cell_type": "markdown",
   "id": "9b2d381d",
   "metadata": {},
   "source": [
    "##### Plotting the Histogram plot to check distribution of frequency on the data"
   ]
  },
  {
   "cell_type": "code",
   "execution_count": null,
   "id": "92732680",
   "metadata": {},
   "outputs": [],
   "source": [
    "plt.figure(figsize=(15,7))\n",
    "data.AIB.plot(kind='hist')\n",
    "plt.title('Histogram')\n",
    "plt.xlabel('Available Beds')\n"
   ]
  },
  {
   "cell_type": "markdown",
   "id": "a7fc4cdc",
   "metadata": {},
   "source": [
    ">From the histrogram plot above it is observed that the data is slightly skewed towards left"
   ]
  },
  {
   "cell_type": "markdown",
   "id": "37372117",
   "metadata": {},
   "source": [
    "##### Creating a month column, to create a box plot of availability of beds for each month"
   ]
  },
  {
   "cell_type": "code",
   "execution_count": null,
   "id": "eadfda8e",
   "metadata": {},
   "outputs": [],
   "source": [
    "data['month']=data.index.month\n"
   ]
  },
  {
   "cell_type": "code",
   "execution_count": null,
   "id": "f6f5b670",
   "metadata": {},
   "outputs": [],
   "source": [
    "plt.rcParams['figure.figsize']=15,10\n",
    "box = data.boxplot(by='month',column=['AIB'],patch_artist=True,grid=False)\n",
    "plt.ylabel('Available beds')\n",
    "plt.show()"
   ]
  },
  {
   "cell_type": "markdown",
   "id": "7f1274ee",
   "metadata": {},
   "source": [
    ">From the box plot above it is observed that outliers are present in the data"
   ]
  },
  {
   "cell_type": "markdown",
   "id": "7d34b15b",
   "metadata": {},
   "source": [
    "##### Plotting the lag plot to check the randomness in the data"
   ]
  },
  {
   "cell_type": "code",
   "execution_count": null,
   "id": "1f3026e0",
   "metadata": {},
   "outputs": [],
   "source": [
    "\n",
    "plt.rcParams['figure.figsize']=15,7\n",
    "plt.title('Lag Plot')\n",
    "lag_plot(data.AIB)\n",
    "plt.xlabel('available beds')\n"
   ]
  },
  {
   "cell_type": "markdown",
   "id": "238c5843",
   "metadata": {},
   "source": [
    ">From the lagplot above it is evident that our data has randomness since it exhibits non identifiable patterns in it"
   ]
  },
  {
   "cell_type": "markdown",
   "id": "dac74847",
   "metadata": {},
   "source": [
    "### <center><code style=\"background:lightblue;color:black\">Tests to check the stationarity</code>"
   ]
  },
  {
   "cell_type": "markdown",
   "id": "37d3e784",
   "metadata": {},
   "source": [
    "> <b>1)Rolling Statistics</b><br>\n",
    " > <b>2)Dicky Fuller Test</b>"
   ]
  },
  {
   "cell_type": "markdown",
   "id": "a9d77214",
   "metadata": {},
   "source": [
    "##### Determining the Rolling Statistics to check the Stationarity of the data"
   ]
  },
  {
   "cell_type": "code",
   "execution_count": null,
   "id": "24ddf45b",
   "metadata": {},
   "outputs": [],
   "source": [
    "#Providing the window of 12days and taking average of it\n",
    "rolling_mean=data.AIB.rolling(window=7).mean()\n",
    "rolling_mean"
   ]
  },
  {
   "cell_type": "code",
   "execution_count": null,
   "id": "3eae41fd",
   "metadata": {},
   "outputs": [],
   "source": [
    "#Providing the window for 12days and taking standard deviation of it\n",
    "rolling_std=data.AIB.rolling(window=7).std()\n",
    "rolling_std"
   ]
  },
  {
   "cell_type": "markdown",
   "id": "ead1f420",
   "metadata": {},
   "source": [
    "##### Visualizing the Rolling Statistics for Mean and Standard Deviation"
   ]
  },
  {
   "cell_type": "code",
   "execution_count": null,
   "id": "95c2e2e0",
   "metadata": {},
   "outputs": [],
   "source": [
    "plt.figure(figsize=(15,7))\n",
    "plt.plot(data.AIB,label='Orginal AIB')\n",
    "plt.plot(rolling_mean,label=\"Mean of AIB\")\n",
    "plt.plot(rolling_std,label=\"STd of AIB\")\n",
    "plt.legend(loc='best')\n",
    "\n",
    "plt.title('Rolling Statistics')\n",
    "plt.xlabel('Months')\n",
    "plt.ylabel('Available Beds')"
   ]
  },
  {
   "cell_type": "markdown",
   "id": "61c69475",
   "metadata": {},
   "source": [
    "##### Determining the Dicky Fuller test to check the Stationarity of the data"
   ]
  },
  {
   "cell_type": "code",
   "execution_count": null,
   "id": "3bd35cfe",
   "metadata": {},
   "outputs": [],
   "source": [
    "hyp_test=adfuller(data['AIB'],autolag='AIC')\n",
    "output=pd.Series(hyp_test[0:4],index=['test stats','p-value','lags used','no. of obs used'])\n",
    "\n",
    "for key, value in hyp_test[4].items():\n",
    "    output['critical value (%s)'%key]=value\n",
    "print(output)"
   ]
  },
  {
   "cell_type": "markdown",
   "id": "ea8f9a5b",
   "metadata": {},
   "source": [
    "##### Looking into the Decompositional plots"
   ]
  },
  {
   "cell_type": "code",
   "execution_count": null,
   "id": "78ae5bb7",
   "metadata": {},
   "outputs": [],
   "source": [
    "decompose=seasonal_decompose(data.AIB,period=7)\n",
    "decompose.plot()\n",
    "plt.show()"
   ]
  },
  {
   "cell_type": "code",
   "execution_count": null,
   "id": "493f143c",
   "metadata": {},
   "outputs": [],
   "source": []
  },
  {
   "cell_type": "code",
   "execution_count": null,
   "id": "05c22476",
   "metadata": {},
   "outputs": [],
   "source": [
    "autocorrelation_plot(data.AIB)"
   ]
  },
  {
   "cell_type": "code",
   "execution_count": null,
   "id": "b7225128",
   "metadata": {},
   "outputs": [],
   "source": []
  },
  {
   "cell_type": "code",
   "execution_count": null,
   "id": "8b7e5b8a",
   "metadata": {},
   "outputs": [],
   "source": [
    "tsa_plot.plot_acf(data.AIB,lags=12)\n",
    "plt.xlabel('Lags')\n",
    "plt.ylabel('Autocorrelation')\n",
    "plt.show()"
   ]
  },
  {
   "cell_type": "code",
   "execution_count": null,
   "id": "ddeaa8b5",
   "metadata": {},
   "outputs": [],
   "source": [
    "\n",
    "tsa_plot.plot_pacf(data.AIB,lags=12)\n",
    "plt.xlabel('Lags')\n",
    "plt.ylabel('PartialAutocorrelation')\n",
    "plt.show()"
   ]
  },
  {
   "cell_type": "code",
   "execution_count": null,
   "id": "d31c520a",
   "metadata": {},
   "outputs": [],
   "source": []
  },
  {
   "cell_type": "markdown",
   "id": "2316b8ad",
   "metadata": {},
   "source": [
    "### <center><code style=\"background:lightblue;color:black\">Model Building</code>"
   ]
  },
  {
   "cell_type": "markdown",
   "id": "47daec3b",
   "metadata": {},
   "source": [
    "##### Splitting the data into train and test data"
   ]
  },
  {
   "cell_type": "code",
   "execution_count": null,
   "id": "369b65ef",
   "metadata": {},
   "outputs": [],
   "source": [
    "#train is 90% of total data and test is 10% of total data\n",
    "train=data.head(336)\n",
    "test=data.tail(30)"
   ]
  },
  {
   "cell_type": "markdown",
   "id": "f94ec9df",
   "metadata": {},
   "source": [
    "##### Dropping the month column for both train and test data"
   ]
  },
  {
   "cell_type": "code",
   "execution_count": null,
   "id": "8f6913d1",
   "metadata": {},
   "outputs": [],
   "source": [
    "train=train.drop(['month'],axis=1)\n",
    "test=test.drop(['month'],axis=1)\n",
    "train"
   ]
  },
  {
   "cell_type": "markdown",
   "id": "8c687b48",
   "metadata": {},
   "source": [
    "### Auto regressive model "
   ]
  },
  {
   "cell_type": "code",
   "execution_count": null,
   "id": "ca9a9d4b",
   "metadata": {},
   "outputs": [],
   "source": [
    "model1=AutoReg(train['AIB'],lags=1).fit()"
   ]
  },
  {
   "cell_type": "code",
   "execution_count": null,
   "id": "9ea541b9",
   "metadata": {},
   "outputs": [],
   "source": [
    "pred1_train=model1.predict(0,len(train)-1)\n",
    "pred1_test=model1.predict(len(train),len(data)-1)\n",
    "pred1_data=model1.predict(0,len(data)-1)"
   ]
  },
  {
   "cell_type": "code",
   "execution_count": null,
   "id": "8209a756",
   "metadata": {},
   "outputs": [],
   "source": [
    "rmse1_train=rmse(pred1_train[1:],train.AIB[1:])\n",
    "rmse1_test=rmse(pred1_test,test.AIB)\n",
    "rmse1_data=rmse(pred1_data[1:],data.AIB[1:])\n",
    "rmse1_train,rmse1_test,rmse1_data"
   ]
  },
  {
   "cell_type": "code",
   "execution_count": null,
   "id": "1c016b82",
   "metadata": {},
   "outputs": [],
   "source": [
    "plt.figure(figsize=(15,5))\n",
    "plt.plot(train.AIB,label='train')\n",
    "plt.plot(test.AIB,label='actual')\n",
    "plt.plot(pred1_train,label='train_prediction')\n",
    "plt.plot(pred1_test,label='test_prediction')\n",
    "plt.legend(loc='best')\n",
    "plt.title('Autoregression')\n",
    "plt.show()\n",
    "\n"
   ]
  },
  {
   "cell_type": "markdown",
   "id": "ecd7054e",
   "metadata": {},
   "source": [
    "### Moving Average Model"
   ]
  },
  {
   "cell_type": "code",
   "execution_count": null,
   "id": "f8e2d2b0",
   "metadata": {},
   "outputs": [],
   "source": [
    "model2=ARIMA(train.AIB,order=(0,0,1)).fit()"
   ]
  },
  {
   "cell_type": "code",
   "execution_count": null,
   "id": "ec78e01c",
   "metadata": {},
   "outputs": [],
   "source": [
    "pred2_test=model2.predict(test.index[0],test.index[-1])\n",
    "pred2_train=model2.predict(train.index[0],train.index[-1])\n",
    "pred2_data=model2.predict(0,len(data)-1)"
   ]
  },
  {
   "cell_type": "code",
   "execution_count": null,
   "id": "c9ab4ac4",
   "metadata": {},
   "outputs": [],
   "source": [
    "rmse2_test=rmse(pred2_test,test.AIB)\n",
    "rmse2_train=rmse(pred2_train,train.AIB)\n",
    "rmse2_data=rmse(pred2_data,data.AIB)\n",
    "rmse2_train,rmse2_test,rmse2_data"
   ]
  },
  {
   "cell_type": "code",
   "execution_count": null,
   "id": "a9b31654",
   "metadata": {},
   "outputs": [],
   "source": [
    "plt.figure(figsize=(15,5))\n",
    "plt.plot(train.AIB,label='train')\n",
    "plt.plot(test.AIB,label='actual')\n",
    "plt.plot(pred2_train,label='train_prediction')\n",
    "plt.plot(pred2_test,label='test_prediction')\n",
    "plt.legend(loc='best')\n",
    "plt.show()\n",
    "\n"
   ]
  },
  {
   "cell_type": "markdown",
   "id": "970d19e5",
   "metadata": {},
   "source": [
    "###  AutoRegressive Moving Average(ARMA)"
   ]
  },
  {
   "cell_type": "code",
   "execution_count": null,
   "id": "2ec58abf",
   "metadata": {},
   "outputs": [],
   "source": [
    "model3=ARIMA(train.AIB,order=(3,0,6)).fit()"
   ]
  },
  {
   "cell_type": "code",
   "execution_count": null,
   "id": "91eebac0",
   "metadata": {},
   "outputs": [],
   "source": [
    "pred3_test=model3.predict(len(train),len(data)-1)\n",
    "pred3_train=model3.predict(train.index[0],train.index[-1])\n",
    "pred3_data=model3.predict(0,len(data)-1)\n",
    "rmse3_test=rmse(pred3_test,test.AIB)\n",
    "rmse3_train=rmse(pred3_train,train.AIB)\n",
    "rmse3_data=rmse(pred3_data,data.AIB)\n",
    "rmse3_train,rmse3_test,rmse3_data"
   ]
  },
  {
   "cell_type": "markdown",
   "id": "194f16bc",
   "metadata": {},
   "source": [
    "### forecast"
   ]
  },
  {
   "cell_type": "code",
   "execution_count": null,
   "id": "0cc448a3",
   "metadata": {},
   "outputs": [],
   "source": [
    "model3_data=ARIMA(data.AIB,order=(3,0,6)).fit()\n",
    "model3_forecast=model3_data.forecast(30)"
   ]
  },
  {
   "cell_type": "code",
   "execution_count": null,
   "id": "2677a493",
   "metadata": {},
   "outputs": [],
   "source": [
    "model3_forecast"
   ]
  },
  {
   "cell_type": "code",
   "execution_count": null,
   "id": "544a5f71",
   "metadata": {},
   "outputs": [],
   "source": [
    "plt.figure(figsize=(15,5))\n",
    "plt.plot(train.AIB,label='train')\n",
    "plt.plot(test.AIB,label='actual')\n",
    "plt.plot(pred3_train,label='train_prediction',linewidth=2)\n",
    "plt.plot(pred3_test,label='test_prediction',linewidth=2)\n",
    "plt.plot(model3_forecast,label='forecast',linewidth=2)\n",
    "plt.legend(loc='best')\n",
    "plt.title('ARMA model')\n",
    "plt.xlabel('Months')\n",
    "plt.ylabel('Available Beds')\n",
    "plt.show()\n",
    "\n"
   ]
  },
  {
   "cell_type": "markdown",
   "id": "223f0fe8",
   "metadata": {},
   "source": [
    "### AutoRegressive Integrated Moving Average(ARIMA)"
   ]
  },
  {
   "cell_type": "code",
   "execution_count": null,
   "id": "7899c8a5",
   "metadata": {},
   "outputs": [],
   "source": [
    "model4=ARIMA(train.AIB,order=(1,1,1)).fit()"
   ]
  },
  {
   "cell_type": "code",
   "execution_count": null,
   "id": "2e044415",
   "metadata": {},
   "outputs": [],
   "source": [
    "pred4_test=model4.predict(len(train),len(data)-1)\n",
    "pred4_train=model4.predict(train.index[0],train.index[-1])\n",
    "pred4_data=model4.predict(train.index[0],data.index[-1])\n",
    "rmse4_test=rmse(pred4_test,test.AIB)\n",
    "rmse4_train=rmse(pred4_train,train.AIB)\n",
    "rmse4_data=rmse(pred4_data,data.AIB)\n",
    "rmse4_train,rmse4_test,rmse4_data"
   ]
  },
  {
   "cell_type": "code",
   "execution_count": null,
   "id": "ca7b4d92",
   "metadata": {},
   "outputs": [],
   "source": [
    "plt.figure(figsize=(15,5))\n",
    "plt.plot(train.AIB[1:],label='train')\n",
    "plt.plot(test.AIB,label='actual')\n",
    "plt.plot(pred4_train[1:],label='train_prediction')\n",
    "plt.plot(pred4_test,label='test_prediction')\n",
    "plt.legend(loc='best')\n",
    "plt.show()\n",
    "\n"
   ]
  },
  {
   "cell_type": "markdown",
   "id": "4ef942a6",
   "metadata": {},
   "source": [
    "### Seasonal ARIMA(SARIMA )"
   ]
  },
  {
   "cell_type": "code",
   "execution_count": null,
   "id": "3ee2461f",
   "metadata": {},
   "outputs": [],
   "source": [
    "model5=SARIMAX(train.AIB,order=(1,0,1),seasonal_order=(1,0,1,7)).fit()"
   ]
  },
  {
   "cell_type": "code",
   "execution_count": null,
   "id": "236fb5ce",
   "metadata": {},
   "outputs": [],
   "source": [
    "pred5_test=model5.predict(len(train),len(data)-1)\n",
    "pred5_train=model5.predict(train.index[0],train.index[-1])\n",
    "pred5_data=model5.predict(data.index[0],len(data)-1)\n",
    "rmse5_test=rmse(pred5_test,test.AIB)\n",
    "rmse5_train=rmse(pred5_train,train.AIB)\n",
    "rmse5_data=rmse(pred5_data,data.AIB)\n",
    "rmse5_train,rmse5_test,rmse5_data"
   ]
  },
  {
   "cell_type": "code",
   "execution_count": null,
   "id": "1c89e176",
   "metadata": {},
   "outputs": [],
   "source": [
    "plt.figure(figsize=(15,5))\n",
    "plt.plot(train.AIB[1:],label='train')\n",
    "plt.plot(test.AIB,label='actual')\n",
    "plt.plot(pred5_train[1:],label='train_prediction')\n",
    "plt.plot(pred5_test,label='test_prediction')\n",
    "plt.legend(loc='best')\n",
    "plt.show()\n",
    "\n",
    "\n"
   ]
  },
  {
   "cell_type": "markdown",
   "id": "41221116",
   "metadata": {},
   "source": [
    "### Simple Exponential Smoothing "
   ]
  },
  {
   "cell_type": "code",
   "execution_count": null,
   "id": "124feb7d",
   "metadata": {},
   "outputs": [],
   "source": [
    "model7=SimpleExpSmoothing(train.AIB).fit(smoothing_level=0.2)\n",
    "pred7_test=model7.predict(len(train),len(data)-1)\n",
    "pred7_train=model7.predict(train.index[0],train.index[-1])\n",
    "pred7_data=model7.predict(data.index[0],data.index[-1])\n",
    "rmse7_test=rmse(pred7_test,test.AIB)\n",
    "rmse7_train=rmse(pred7_train,train.AIB)\n",
    "rmse7_data=rmse(pred7_data,data.AIB)\n",
    "rmse7_train,rmse7_test,rmse7_data"
   ]
  },
  {
   "cell_type": "code",
   "execution_count": null,
   "id": "553b53d0",
   "metadata": {},
   "outputs": [],
   "source": [
    "plt.figure(figsize=(15,5))\n",
    "plt.plot(train.AIB,label='train')\n",
    "plt.plot(test.AIB,label='actual')\n",
    "plt.plot(pred7_train,label='train_prediction')\n",
    "plt.plot(pred7_test,label='test_prediction')\n",
    "plt.legend(loc='best')\n",
    "plt.show()\n",
    "\n"
   ]
  },
  {
   "cell_type": "markdown",
   "id": "03766540",
   "metadata": {},
   "source": [
    "### Holts Trend Method"
   ]
  },
  {
   "cell_type": "code",
   "execution_count": null,
   "id": "52be66e2",
   "metadata": {},
   "outputs": [],
   "source": [
    "model8=Holt(train.AIB).fit(smoothing_level=0.1)\n",
    "pred8_test=model8.predict(len(train),len(data)-1)\n",
    "pred8_train=model8.predict(train.index[0],train.index[-1])\n",
    "pred8_data=model8.predict(data.index[0],data.index[-1])\n",
    "rmse8_test=rmse(pred8_test,test.AIB)\n",
    "rmse8_train=rmse(pred8_train,train.AIB)\n",
    "rmse8_data=rmse(pred8_data,data.AIB)\n",
    "rmse8_train,rmse8_test,rmse8_data"
   ]
  },
  {
   "cell_type": "code",
   "execution_count": null,
   "id": "f4f89810",
   "metadata": {},
   "outputs": [],
   "source": [
    "plt.figure(figsize=(15,5))\n",
    "plt.plot(train.AIB,label='train')\n",
    "plt.plot(test.AIB,label='actual')\n",
    "plt.plot(pred8_train,label='train_prediction')\n",
    "plt.plot(pred8_test,label='test_prediction')\n",
    "plt.legend(loc='best')\n",
    "plt.show()\n",
    "\n",
    "\n"
   ]
  },
  {
   "cell_type": "markdown",
   "id": "b60426ad",
   "metadata": {},
   "source": [
    "### Holts Winter Exponential Smoothing(HWES)"
   ]
  },
  {
   "cell_type": "code",
   "execution_count": null,
   "id": "0dc70321",
   "metadata": {},
   "outputs": [],
   "source": [
    "model9=ExponentialSmoothing(train.AIB).fit()\n",
    "pred9_test=model9.predict(len(train),len(data)-1)\n",
    "pred9_train=model9.predict(train.index[0],train.index[-1])\n",
    "pred9_data=model9.predict(data.index[0],data.index[-1])\n",
    "rmse9_test=rmse(pred9_test,test.AIB)\n",
    "rmse9_train=rmse(pred9_train,train.AIB)\n",
    "rmse9_data=rmse(pred9_data,data.AIB)\n",
    "rmse9_train,rmse9_test,rmse9_data"
   ]
  },
  {
   "cell_type": "code",
   "execution_count": null,
   "id": "df2fb964",
   "metadata": {},
   "outputs": [],
   "source": [
    "plt.figure(figsize=(15,5))\n",
    "plt.plot(train.AIB,label='train')\n",
    "plt.plot(test.AIB,label='actual')\n",
    "plt.plot(pred9_train,label='train_prediction')\n",
    "plt.plot(pred9_test,label='test_prediction')\n",
    "plt.legend(loc='best')\n",
    "plt.show()\n",
    "\n",
    "\n"
   ]
  },
  {
   "cell_type": "markdown",
   "id": "e24aee89",
   "metadata": {},
   "source": [
    "### Holts Winter Exponential Smoothing with Additive Seasonality and Additive Trend"
   ]
  },
  {
   "cell_type": "code",
   "execution_count": null,
   "id": "1fd02e33",
   "metadata": {},
   "outputs": [],
   "source": [
    "model10=ExponentialSmoothing(train.AIB,seasonal=\"add\",seasonal_periods=5).fit()\n",
    "pred10_test=model10.predict(test.index[0],test.index[-1])\n",
    "pred10_train=model10.predict(train.index[0],train.index[-1])\n",
    "pred10_data=model10.predict(data.index[0],data.index[-1])\n",
    "rmse10_test=rmse(pred10_test,test.AIB)\n",
    "rmse10_train=rmse(pred10_train,train.AIB)\n",
    "rmse10_data=rmse(pred10_data,data.AIB)\n",
    "rmse10_train,rmse10_test,rmse10_data"
   ]
  },
  {
   "cell_type": "code",
   "execution_count": null,
   "id": "a1dcb040",
   "metadata": {},
   "outputs": [],
   "source": [
    "plt.figure(figsize=(15,5))\n",
    "plt.plot(train.AIB,label='train')\n",
    "plt.plot(test.AIB,label='actual')\n",
    "plt.plot(pred10_train,label='train_prediction')\n",
    "plt.plot(pred10_test,label='test_prediction')\n",
    "plt.legend(loc='best')\n",
    "plt.show()\n",
    "\n",
    "\n",
    "\n"
   ]
  },
  {
   "cell_type": "markdown",
   "id": "85615544",
   "metadata": {},
   "source": [
    "### HWES with Multiplicative Seasonality and Additive Trend"
   ]
  },
  {
   "cell_type": "code",
   "execution_count": null,
   "id": "a34f7a4e",
   "metadata": {},
   "outputs": [],
   "source": [
    "model11=ExponentialSmoothing(train.AIB,seasonal=\"mul\",seasonal_periods=8).fit()\n",
    "pred11_test=model11.predict(test.index[0],test.index[-1])\n",
    "pred11_train=model11.predict(train.index[0],train.index[-1])\n",
    "pred11_data=model11.predict(data.index[0],data.index[-1])\n",
    "rmse11_test=rmse(pred11_test,test.AIB)\n",
    "rmse11_train=rmse(pred11_train,train.AIB)\n",
    "rmse11_data=rmse(pred11_data,data.AIB)\n",
    "rmse11_train,rmse11_test,rmse11_data"
   ]
  },
  {
   "cell_type": "markdown",
   "id": "fabe9594",
   "metadata": {},
   "source": [
    "### forecast"
   ]
  },
  {
   "cell_type": "code",
   "execution_count": null,
   "id": "cd95b376",
   "metadata": {},
   "outputs": [],
   "source": [
    "model11_data=ExponentialSmoothing(data.AIB,seasonal=\"mul\",seasonal_periods=8).fit()"
   ]
  },
  {
   "cell_type": "code",
   "execution_count": null,
   "id": "a556e379",
   "metadata": {},
   "outputs": [],
   "source": [
    "model11_forecast=model11_data.forecast(30)\n"
   ]
  },
  {
   "cell_type": "code",
   "execution_count": null,
   "id": "6f1f3adc",
   "metadata": {},
   "outputs": [],
   "source": [
    "plt.figure(figsize=(15,5))\n",
    "plt.plot(train.AIB,label='train')\n",
    "plt.plot(test.AIB,label='actual')\n",
    "plt.plot(pred11_train,label='train_prediction')\n",
    "plt.plot(pred11_test,label='test_prediction')\n",
    "plt.plot(model11_forecast,label=\"Forecast\")\n",
    "plt.legend(loc='best')\n",
    "plt.show()"
   ]
  },
  {
   "cell_type": "markdown",
   "id": "662877d4",
   "metadata": {},
   "source": [
    "### Prophet"
   ]
  },
  {
   "cell_type": "code",
   "execution_count": null,
   "id": "caaac4c7",
   "metadata": {},
   "outputs": [],
   "source": [
    "df=data\n",
    "df=df.drop(['month'],axis=1)\n",
    "df"
   ]
  },
  {
   "cell_type": "code",
   "execution_count": null,
   "id": "11dee07b",
   "metadata": {},
   "outputs": [],
   "source": [
    "df=df.reset_index()\n",
    "df.columns=['ds','y']\n",
    "df"
   ]
  },
  {
   "cell_type": "code",
   "execution_count": null,
   "id": "f36c7378",
   "metadata": {},
   "outputs": [],
   "source": [
    "df_train=df[:336]\n",
    "df_test=df[30:]\n"
   ]
  },
  {
   "cell_type": "code",
   "execution_count": null,
   "id": "73b1d469",
   "metadata": {},
   "outputs": [],
   "source": [
    "model_prophet=fbprophet.Prophet(yearly_seasonality = False,daily_seasonality=True).fit(df_train)"
   ]
  },
  {
   "cell_type": "code",
   "execution_count": null,
   "id": "689c05ff",
   "metadata": {},
   "outputs": [],
   "source": [
    "pred_prophet_test=model_prophet.predict(df_test)\n",
    "pred_prophet_train=model_prophet.predict(df_train)\n",
    "pred_prophet_data=model_prophet.predict(df)"
   ]
  },
  {
   "cell_type": "code",
   "execution_count": null,
   "id": "8a3a6f78",
   "metadata": {},
   "outputs": [],
   "source": [
    "pred_prophet_test.head()"
   ]
  },
  {
   "cell_type": "code",
   "execution_count": null,
   "id": "6a97ceb2",
   "metadata": {},
   "outputs": [],
   "source": [
    "rmse_prophet_test=rmse(df_test.y,pred_prophet_test.yhat)\n",
    "rmse_prophet_train=rmse(df_train.y,pred_prophet_train.yhat)\n",
    "rmse_prophet_data=rmse(df.y,pred_prophet_data.yhat)\n",
    "rmse_prophet_train,rmse_prophet_test,rmse_prophet_data"
   ]
  },
  {
   "cell_type": "code",
   "execution_count": null,
   "id": "cfee6af2",
   "metadata": {},
   "outputs": [],
   "source": [
    "plt.plot(df.ds,df.y,label='original')\n",
    "plt.plot(pred_prophet_test.ds,pred_prophet_test.yhat,label='test predicted',linewidth=2)\n",
    "plt.plot(pred_prophet_train.ds,pred_prophet_train.yhat,label='train predicted',linewidth=2)\n",
    "plt.legend(loc='best')"
   ]
  },
  {
   "cell_type": "code",
   "execution_count": null,
   "id": "2ba7fbbf",
   "metadata": {},
   "outputs": [],
   "source": [
    "model_prophet.plot(pred_prophet_test)\n",
    "model_prophet.plot(pred_prophet_train)\n",
    "plt.show()"
   ]
  },
  {
   "cell_type": "markdown",
   "id": "b0b263ea",
   "metadata": {},
   "source": [
    "##### Forecasting for the Prophet"
   ]
  },
  {
   "cell_type": "code",
   "execution_count": null,
   "id": "f1386948",
   "metadata": {},
   "outputs": [],
   "source": [
    "model_prophet_forecast=fbprophet.Prophet(yearly_seasonality = False,daily_seasonality=True).fit(df)"
   ]
  },
  {
   "cell_type": "code",
   "execution_count": null,
   "id": "5a681c68",
   "metadata": {},
   "outputs": [],
   "source": [
    "future = model_prophet_forecast.make_future_dataframe(periods=30)"
   ]
  },
  {
   "cell_type": "code",
   "execution_count": null,
   "id": "c8df23fa",
   "metadata": {},
   "outputs": [],
   "source": [
    "future.tail()"
   ]
  },
  {
   "cell_type": "code",
   "execution_count": null,
   "id": "9a252750",
   "metadata": {},
   "outputs": [],
   "source": [
    "prophet_forecast = model_prophet.predict(future)\n",
    "prophet_forecast[['ds', 'yhat', 'yhat_lower', 'yhat_upper']].tail(30)"
   ]
  },
  {
   "cell_type": "code",
   "execution_count": null,
   "id": "ee967882",
   "metadata": {},
   "outputs": [],
   "source": [
    "fig1 = model_prophet_forecast.plot(prophet_forecast)"
   ]
  },
  {
   "cell_type": "code",
   "execution_count": null,
   "id": "5a4a9a0e",
   "metadata": {},
   "outputs": [],
   "source": [
    "fig2 = model_prophet_forecast.plot_components(prophet_forecast)"
   ]
  },
  {
   "cell_type": "markdown",
   "id": "a0f97c97",
   "metadata": {},
   "source": [
    "##### Tabulating the RMSE score for all the models built"
   ]
  },
  {
   "cell_type": "code",
   "execution_count": null,
   "id": "f3e73065",
   "metadata": {},
   "outputs": [],
   "source": [
    "t={\"model\":pd.Series([\"AR\",\"MA\",\"ARMA\",\"ARIMA\",\"SARIMA\",\"SES\",\"Holts trend\",\"HWES\",\"hwes additive seasonality & additive trend\",\"hews multiplicative seasonality & additive trend\",\"auto arima \",\"prophet\"]),\n",
    "  \"RMSE_test\":[rmse1_test,rmse2_test,rmse3_test,rmse4_test,rmse5_test,rmse7_test,rmse8_test,rmse9_test,rmse10_test,rmse11_test,rmse_try_test,rmse_prophet_test],\n",
    "   \"RMSE_train\":[rmse1_train,rmse2_train,rmse3_train,rmse4_train,rmse5_train,rmse7_train,rmse8_train,rmse9_train,rmse10_train,rmse11_train,rmse_try_train,rmse_prophet_train],\n",
    "   \"RMSE_full_data\":[rmse1_data,rmse2_data,rmse3_data,rmse4_data,rmse5_data,rmse7_data,rmse8_data,rmse9_data,rmse10_data,rmse11_data,rmse_try_data,rmse_prophet_data]\n",
    "  }\n",
    "t=pd.DataFrame(t)\n",
    "t.style.highlight_min(color = 'lightgreen', axis = 0) "
   ]
  },
  {
   "cell_type": "code",
   "execution_count": null,
   "id": "c9a9768b",
   "metadata": {},
   "outputs": [],
   "source": [
    "pickle.dump(model_prophet_forecast,open('prophet.pkl','wb'))"
   ]
  },
  {
   "cell_type": "code",
   "execution_count": null,
   "id": "644d6946",
   "metadata": {},
   "outputs": [],
   "source": []
  }
 ],
 "metadata": {
  "kernelspec": {
   "display_name": "Python 3",
   "language": "python",
   "name": "python3"
  },
  "language_info": {
   "codemirror_mode": {
    "name": "ipython",
    "version": 3
   },
   "file_extension": ".py",
   "mimetype": "text/x-python",
   "name": "python",
   "nbconvert_exporter": "python",
   "pygments_lexer": "ipython3",
   "version": "3.8.10"
  }
 },
 "nbformat": 4,
 "nbformat_minor": 5
}
